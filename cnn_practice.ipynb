{
 "cells": [
  {
   "cell_type": "code",
   "execution_count": 1,
   "metadata": {},
   "outputs": [],
   "source": [
    "import tensorflow as tf\n",
    "(x_train, y_train), (x_test, y_test) = tf.keras.datasets.mnist.load_data()"
   ]
  },
  {
   "cell_type": "code",
   "execution_count": 35,
   "metadata": {},
   "outputs": [],
   "source": [
    "# (x_train_orig, y_train_orig), (x_test_orig, y_test_orig) = tf.keras.datasets.mnist.load_data()"
   ]
  },
  {
   "cell_type": "code",
   "execution_count": 2,
   "metadata": {},
   "outputs": [
    {
     "name": "stderr",
     "output_type": "stream",
     "text": [
      "Using TensorFlow backend.\n"
     ]
    }
   ],
   "source": [
    "import numpy as np, pandas as pd, matplotlib.pyplot as plt\n",
    "import scipy.misc as smp\n",
    "import matplotlib.pyplot as plt\n",
    "import numpy as np\n",
    "import os, shutil\n",
    "from sklearn.model_selection import train_test_split\n",
    "from sklearn.metrics import f1_score, precision_score, recall_score, classification_report, confusion_matrix\n",
    "from keras import models, optimizers, Sequential, regularizers, layers\n",
    "from keras.models import load_model, model_from_json\n",
    "from keras.preprocessing.image import ImageDataGenerator, array_to_img, img_to_array, load_img\n",
    "from keras.utils import to_categorical\n",
    "from keras.applications import VGG16, VGG19\n",
    "from keras.callbacks import ModelCheckpoint, LearningRateScheduler, TensorBoard, EarlyStopping\n",
    "from keras.layers import Flatten, Dropout, Reshape, Dense, GlobalAveragePooling2D\n",
    "from keras.layers.convolutional import Conv2D, MaxPooling2D\n",
    "import itertools\n",
    "\n",
    "np.random.seed(123)"
   ]
  },
  {
   "cell_type": "code",
   "execution_count": 33,
   "metadata": {},
   "outputs": [],
   "source": [
    "def plot_confusion_matrix(cm, classes,\n",
    "             normalize=False,\n",
    "             title='Confusion matrix',\n",
    "             cmap=plt.cm.Blues):\n",
    "    #Add Normalization Option\n",
    "    '''prints pretty confusion metric with normalization option '''\n",
    "    if normalize:\n",
    "        cm = cm.astype('float') / cm.sum(axis=1)[:, np.newaxis]\n",
    "        print(\"Normalized confusion matrix\")\n",
    "    else:\n",
    "        print('Confusion matrix, without normalization')\n",
    "    \n",
    "#     print(cm)\n",
    "    \n",
    "    plt.imshow(cm, interpolation='nearest', cmap=cmap)\n",
    "    plt.title(title)\n",
    "    plt.colorbar()\n",
    "    tick_marks = np.arange(len(classes))\n",
    "    plt.xticks(tick_marks, classes, rotation=45)\n",
    "    plt.yticks(tick_marks, classes)\n",
    "    \n",
    "    fmt = '.2f' if normalize else 'd'\n",
    "    thresh = cm.max() / 2.\n",
    "    for i, j in itertools.product(range(cm.shape[0]), range(cm.shape[1])):\n",
    "        plt.text(j, i, format(cm[i, j], fmt), horizontalalignment=\"center\", color=\"white\" if cm[i, j] > thresh else \"black\")\n",
    "    \n",
    "    plt.tight_layout()\n",
    "    plt.ylabel('True label')\n",
    "    plt.xlabel('Predicted label')"
   ]
  },
  {
   "cell_type": "code",
   "execution_count": 3,
   "metadata": {},
   "outputs": [
    {
     "data": {
      "text/plain": [
       "(60000,)"
      ]
     },
     "execution_count": 3,
     "metadata": {},
     "output_type": "execute_result"
    }
   ],
   "source": [
    "y_train.shape"
   ]
  },
  {
   "cell_type": "code",
   "execution_count": 4,
   "metadata": {},
   "outputs": [
    {
     "data": {
      "text/plain": [
       "(28, 28)"
      ]
     },
     "execution_count": 4,
     "metadata": {},
     "output_type": "execute_result"
    }
   ],
   "source": [
    "x_train[0].shape"
   ]
  },
  {
   "cell_type": "code",
   "execution_count": 5,
   "metadata": {},
   "outputs": [
    {
     "data": {
      "text/plain": [
       "array([0, 1, 2, 3, 4, 5, 6, 7, 8, 9], dtype=uint8)"
      ]
     },
     "execution_count": 5,
     "metadata": {},
     "output_type": "execute_result"
    }
   ],
   "source": [
    "np.unique(y_train)"
   ]
  },
  {
   "cell_type": "code",
   "execution_count": 6,
   "metadata": {},
   "outputs": [
    {
     "name": "stdout",
     "output_type": "stream",
     "text": [
      "x_train shape: (60000, 28, 28, 1)\n",
      "Number of images in x_train 60000\n",
      "Number of images in x_test 10000\n"
     ]
    }
   ],
   "source": [
    "# Reshaping the array to 4-dims so that it can work with the Keras API\n",
    "x_train = x_train.reshape(x_train.shape[0], 28, 28, 1)\n",
    "x_test = x_test.reshape(x_test.shape[0], 28, 28, 1)\n",
    "input_shape = (28, 28, 1)\n",
    "# Making sure that the values are float so that we can get decimal points after division\n",
    "x_train = x_train.astype('float32')\n",
    "x_test = x_test.astype('float32')\n",
    "# Normalizing the RGB codes by dividing it to the max RGB value.\n",
    "x_train /= 255\n",
    "x_test /= 255\n",
    "print('x_train shape:', x_train.shape)\n",
    "print('Number of images in x_train', x_train.shape[0])\n",
    "print('Number of images in x_test', x_test.shape[0])"
   ]
  },
  {
   "cell_type": "code",
   "execution_count": 7,
   "metadata": {},
   "outputs": [],
   "source": [
    "X_train, X_val, y_train, y_val = train_test_split(x_train, y_train, test_size=0.20, random_state=123, stratify = y_train)\n"
   ]
  },
  {
   "cell_type": "code",
   "execution_count": 15,
   "metadata": {},
   "outputs": [],
   "source": [
    "y_train = to_categorical(y_train)\n",
    "y_test = to_categorical(y_test)\n",
    "y_val = to_categorical(y_val)"
   ]
  },
  {
   "cell_type": "markdown",
   "metadata": {},
   "source": [
    "## 1"
   ]
  },
  {
   "cell_type": "code",
   "execution_count": 8,
   "metadata": {},
   "outputs": [
    {
     "name": "stdout",
     "output_type": "stream",
     "text": [
      "WARNING:tensorflow:From /anaconda3/lib/python3.7/site-packages/tensorflow/python/framework/op_def_library.py:263: colocate_with (from tensorflow.python.framework.ops) is deprecated and will be removed in a future version.\n",
      "Instructions for updating:\n",
      "Colocations handled automatically by placer.\n",
      "WARNING:tensorflow:From /anaconda3/lib/python3.7/site-packages/keras/backend/tensorflow_backend.py:3445: calling dropout (from tensorflow.python.ops.nn_ops) with keep_prob is deprecated and will be removed in a future version.\n",
      "Instructions for updating:\n",
      "Please use `rate` instead of `keep_prob`. Rate should be set to `rate = 1 - keep_prob`.\n"
     ]
    }
   ],
   "source": [
    "cnn = models.Sequential()\n",
    "cnn.add(layers.Conv2D(28, (3, 3), activation='relu', input_shape=(28,28,1)))\n",
    "cnn.add(layers.MaxPooling2D((2, 2)))\n",
    "cnn.add(layers.Conv2D(14, (3, 3), activation='relu'))\n",
    "cnn.add(layers.MaxPooling2D((2, 2)))\n",
    "cnn.add(layers.Conv2D(7, (3, 3), activation='relu'))\n",
    "cnn.add(layers.MaxPooling2D((2, 2)))\n",
    "cnn.add(layers.Flatten())\n",
    "cnn.add(layers.Dense(300, activation='relu'))\n",
    "cnn.add(layers.Dropout(0.3))\n",
    "cnn.add(layers.Dense(150, activation='relu'))\n",
    "cnn.add(layers.Dense(10, activation='softmax'))\n",
    "\n",
    "cnn.compile(loss='categorical_crossentropy',\n",
    "              optimizer=\"sgd\",\n",
    "              metrics=['acc'])"
   ]
  },
  {
   "cell_type": "code",
   "execution_count": 17,
   "metadata": {},
   "outputs": [],
   "source": [
    "# accidentally saved model 1 as vgg16_1.h5\n",
    "checkpoint = ModelCheckpoint(\"vgg16_1.h5\", monitor='val_acc', verbose=1, save_best_only=True, save_weights_only=False, mode='auto', period=1)\n",
    "early = EarlyStopping(monitor='val_acc', min_delta=0, patience=10, verbose=1, mode='auto')\n",
    "tensorboard = TensorBoard()\n"
   ]
  },
  {
   "cell_type": "code",
   "execution_count": 18,
   "metadata": {
    "scrolled": false
   },
   "outputs": [
    {
     "name": "stdout",
     "output_type": "stream",
     "text": [
      "Train on 48000 samples, validate on 12000 samples\n",
      "Epoch 1/50\n",
      "48000/48000 [==============================] - 20s 424us/step - loss: 0.0777 - acc: 0.9752 - val_loss: 0.0868 - val_acc: 0.9738\n",
      "\n",
      "Epoch 00001: val_acc improved from -inf to 0.97375, saving model to vgg16_1.h5\n",
      "Epoch 2/50\n",
      "48000/48000 [==============================] - 20s 425us/step - loss: 0.0785 - acc: 0.9755 - val_loss: 0.0899 - val_acc: 0.9723\n",
      "\n",
      "Epoch 00002: val_acc did not improve from 0.97375\n",
      "Epoch 3/50\n",
      "48000/48000 [==============================] - 21s 445us/step - loss: 0.0753 - acc: 0.9765 - val_loss: 0.0894 - val_acc: 0.9734\n",
      "\n",
      "Epoch 00003: val_acc did not improve from 0.97375\n",
      "Epoch 4/50\n",
      "48000/48000 [==============================] - 19s 400us/step - loss: 0.0751 - acc: 0.9760 - val_loss: 0.0851 - val_acc: 0.9748\n",
      "\n",
      "Epoch 00004: val_acc improved from 0.97375 to 0.97483, saving model to vgg16_1.h5\n",
      "Epoch 5/50\n",
      "48000/48000 [==============================] - 20s 414us/step - loss: 0.0735 - acc: 0.9773 - val_loss: 0.0884 - val_acc: 0.9742\n",
      "\n",
      "Epoch 00005: val_acc did not improve from 0.97483\n",
      "Epoch 6/50\n",
      "48000/48000 [==============================] - 20s 415us/step - loss: 0.0717 - acc: 0.9765 - val_loss: 0.1063 - val_acc: 0.9684\n",
      "\n",
      "Epoch 00006: val_acc did not improve from 0.97483\n",
      "Epoch 7/50\n",
      "48000/48000 [==============================] - 20s 413us/step - loss: 0.0717 - acc: 0.9778 - val_loss: 0.0875 - val_acc: 0.9742\n",
      "\n",
      "Epoch 00007: val_acc did not improve from 0.97483\n",
      "Epoch 8/50\n",
      "48000/48000 [==============================] - 20s 409us/step - loss: 0.0706 - acc: 0.9780 - val_loss: 0.0883 - val_acc: 0.9733\n",
      "\n",
      "Epoch 00008: val_acc did not improve from 0.97483\n",
      "Epoch 9/50\n",
      "48000/48000 [==============================] - 20s 410us/step - loss: 0.0682 - acc: 0.9782 - val_loss: 0.0835 - val_acc: 0.9753\n",
      "\n",
      "Epoch 00009: val_acc improved from 0.97483 to 0.97533, saving model to vgg16_1.h5\n",
      "Epoch 10/50\n",
      " 9376/48000 [====>.........................] - ETA: 14s - loss: 0.0684 - acc: 0.9771"
     ]
    },
    {
     "ename": "KeyboardInterrupt",
     "evalue": "",
     "output_type": "error",
     "traceback": [
      "\u001b[0;31m---------------------------------------------------------------------------\u001b[0m",
      "\u001b[0;31mKeyboardInterrupt\u001b[0m                         Traceback (most recent call last)",
      "\u001b[0;32m<ipython-input-18-2ca762a5faf5>\u001b[0m in \u001b[0;36m<module>\u001b[0;34m\u001b[0m\n\u001b[1;32m      4\u001b[0m                 \u001b[0mbatch_size\u001b[0m\u001b[0;34m=\u001b[0m\u001b[0;36m32\u001b[0m\u001b[0;34m,\u001b[0m\u001b[0;34m\u001b[0m\u001b[0;34m\u001b[0m\u001b[0m\n\u001b[1;32m      5\u001b[0m                 \u001b[0mvalidation_data\u001b[0m\u001b[0;34m=\u001b[0m\u001b[0;34m(\u001b[0m\u001b[0mX_val\u001b[0m\u001b[0;34m,\u001b[0m \u001b[0my_val\u001b[0m\u001b[0;34m)\u001b[0m\u001b[0;34m,\u001b[0m\u001b[0;34m\u001b[0m\u001b[0;34m\u001b[0m\u001b[0m\n\u001b[0;32m----> 6\u001b[0;31m                 callbacks=[early, checkpoint, tensorboard])\n\u001b[0m",
      "\u001b[0;32m/anaconda3/lib/python3.7/site-packages/keras/engine/training.py\u001b[0m in \u001b[0;36mfit\u001b[0;34m(self, x, y, batch_size, epochs, verbose, callbacks, validation_split, validation_data, shuffle, class_weight, sample_weight, initial_epoch, steps_per_epoch, validation_steps, **kwargs)\u001b[0m\n\u001b[1;32m   1037\u001b[0m                                         \u001b[0minitial_epoch\u001b[0m\u001b[0;34m=\u001b[0m\u001b[0minitial_epoch\u001b[0m\u001b[0;34m,\u001b[0m\u001b[0;34m\u001b[0m\u001b[0;34m\u001b[0m\u001b[0m\n\u001b[1;32m   1038\u001b[0m                                         \u001b[0msteps_per_epoch\u001b[0m\u001b[0;34m=\u001b[0m\u001b[0msteps_per_epoch\u001b[0m\u001b[0;34m,\u001b[0m\u001b[0;34m\u001b[0m\u001b[0;34m\u001b[0m\u001b[0m\n\u001b[0;32m-> 1039\u001b[0;31m                                         validation_steps=validation_steps)\n\u001b[0m\u001b[1;32m   1040\u001b[0m \u001b[0;34m\u001b[0m\u001b[0m\n\u001b[1;32m   1041\u001b[0m     def evaluate(self, x=None, y=None,\n",
      "\u001b[0;32m/anaconda3/lib/python3.7/site-packages/keras/engine/training_arrays.py\u001b[0m in \u001b[0;36mfit_loop\u001b[0;34m(model, f, ins, out_labels, batch_size, epochs, verbose, callbacks, val_f, val_ins, shuffle, callback_metrics, initial_epoch, steps_per_epoch, validation_steps)\u001b[0m\n\u001b[1;32m    197\u001b[0m                     \u001b[0mins_batch\u001b[0m\u001b[0;34m[\u001b[0m\u001b[0mi\u001b[0m\u001b[0;34m]\u001b[0m \u001b[0;34m=\u001b[0m \u001b[0mins_batch\u001b[0m\u001b[0;34m[\u001b[0m\u001b[0mi\u001b[0m\u001b[0;34m]\u001b[0m\u001b[0;34m.\u001b[0m\u001b[0mtoarray\u001b[0m\u001b[0;34m(\u001b[0m\u001b[0;34m)\u001b[0m\u001b[0;34m\u001b[0m\u001b[0;34m\u001b[0m\u001b[0m\n\u001b[1;32m    198\u001b[0m \u001b[0;34m\u001b[0m\u001b[0m\n\u001b[0;32m--> 199\u001b[0;31m                 \u001b[0mouts\u001b[0m \u001b[0;34m=\u001b[0m \u001b[0mf\u001b[0m\u001b[0;34m(\u001b[0m\u001b[0mins_batch\u001b[0m\u001b[0;34m)\u001b[0m\u001b[0;34m\u001b[0m\u001b[0;34m\u001b[0m\u001b[0m\n\u001b[0m\u001b[1;32m    200\u001b[0m                 \u001b[0mouts\u001b[0m \u001b[0;34m=\u001b[0m \u001b[0mto_list\u001b[0m\u001b[0;34m(\u001b[0m\u001b[0mouts\u001b[0m\u001b[0;34m)\u001b[0m\u001b[0;34m\u001b[0m\u001b[0;34m\u001b[0m\u001b[0m\n\u001b[1;32m    201\u001b[0m                 \u001b[0;32mfor\u001b[0m \u001b[0ml\u001b[0m\u001b[0;34m,\u001b[0m \u001b[0mo\u001b[0m \u001b[0;32min\u001b[0m \u001b[0mzip\u001b[0m\u001b[0;34m(\u001b[0m\u001b[0mout_labels\u001b[0m\u001b[0;34m,\u001b[0m \u001b[0mouts\u001b[0m\u001b[0;34m)\u001b[0m\u001b[0;34m:\u001b[0m\u001b[0;34m\u001b[0m\u001b[0;34m\u001b[0m\u001b[0m\n",
      "\u001b[0;32m/anaconda3/lib/python3.7/site-packages/keras/backend/tensorflow_backend.py\u001b[0m in \u001b[0;36m__call__\u001b[0;34m(self, inputs)\u001b[0m\n\u001b[1;32m   2713\u001b[0m                 \u001b[0;32mreturn\u001b[0m \u001b[0mself\u001b[0m\u001b[0;34m.\u001b[0m\u001b[0m_legacy_call\u001b[0m\u001b[0;34m(\u001b[0m\u001b[0minputs\u001b[0m\u001b[0;34m)\u001b[0m\u001b[0;34m\u001b[0m\u001b[0;34m\u001b[0m\u001b[0m\n\u001b[1;32m   2714\u001b[0m \u001b[0;34m\u001b[0m\u001b[0m\n\u001b[0;32m-> 2715\u001b[0;31m             \u001b[0;32mreturn\u001b[0m \u001b[0mself\u001b[0m\u001b[0;34m.\u001b[0m\u001b[0m_call\u001b[0m\u001b[0;34m(\u001b[0m\u001b[0minputs\u001b[0m\u001b[0;34m)\u001b[0m\u001b[0;34m\u001b[0m\u001b[0;34m\u001b[0m\u001b[0m\n\u001b[0m\u001b[1;32m   2716\u001b[0m         \u001b[0;32melse\u001b[0m\u001b[0;34m:\u001b[0m\u001b[0;34m\u001b[0m\u001b[0;34m\u001b[0m\u001b[0m\n\u001b[1;32m   2717\u001b[0m             \u001b[0;32mif\u001b[0m \u001b[0mpy_any\u001b[0m\u001b[0;34m(\u001b[0m\u001b[0mis_tensor\u001b[0m\u001b[0;34m(\u001b[0m\u001b[0mx\u001b[0m\u001b[0;34m)\u001b[0m \u001b[0;32mfor\u001b[0m \u001b[0mx\u001b[0m \u001b[0;32min\u001b[0m \u001b[0minputs\u001b[0m\u001b[0;34m)\u001b[0m\u001b[0;34m:\u001b[0m\u001b[0;34m\u001b[0m\u001b[0;34m\u001b[0m\u001b[0m\n",
      "\u001b[0;32m/anaconda3/lib/python3.7/site-packages/keras/backend/tensorflow_backend.py\u001b[0m in \u001b[0;36m_call\u001b[0;34m(self, inputs)\u001b[0m\n\u001b[1;32m   2673\u001b[0m             \u001b[0mfetched\u001b[0m \u001b[0;34m=\u001b[0m \u001b[0mself\u001b[0m\u001b[0;34m.\u001b[0m\u001b[0m_callable_fn\u001b[0m\u001b[0;34m(\u001b[0m\u001b[0;34m*\u001b[0m\u001b[0marray_vals\u001b[0m\u001b[0;34m,\u001b[0m \u001b[0mrun_metadata\u001b[0m\u001b[0;34m=\u001b[0m\u001b[0mself\u001b[0m\u001b[0;34m.\u001b[0m\u001b[0mrun_metadata\u001b[0m\u001b[0;34m)\u001b[0m\u001b[0;34m\u001b[0m\u001b[0;34m\u001b[0m\u001b[0m\n\u001b[1;32m   2674\u001b[0m         \u001b[0;32melse\u001b[0m\u001b[0;34m:\u001b[0m\u001b[0;34m\u001b[0m\u001b[0;34m\u001b[0m\u001b[0m\n\u001b[0;32m-> 2675\u001b[0;31m             \u001b[0mfetched\u001b[0m \u001b[0;34m=\u001b[0m \u001b[0mself\u001b[0m\u001b[0;34m.\u001b[0m\u001b[0m_callable_fn\u001b[0m\u001b[0;34m(\u001b[0m\u001b[0;34m*\u001b[0m\u001b[0marray_vals\u001b[0m\u001b[0;34m)\u001b[0m\u001b[0;34m\u001b[0m\u001b[0;34m\u001b[0m\u001b[0m\n\u001b[0m\u001b[1;32m   2676\u001b[0m         \u001b[0;32mreturn\u001b[0m \u001b[0mfetched\u001b[0m\u001b[0;34m[\u001b[0m\u001b[0;34m:\u001b[0m\u001b[0mlen\u001b[0m\u001b[0;34m(\u001b[0m\u001b[0mself\u001b[0m\u001b[0;34m.\u001b[0m\u001b[0moutputs\u001b[0m\u001b[0;34m)\u001b[0m\u001b[0;34m]\u001b[0m\u001b[0;34m\u001b[0m\u001b[0;34m\u001b[0m\u001b[0m\n\u001b[1;32m   2677\u001b[0m \u001b[0;34m\u001b[0m\u001b[0m\n",
      "\u001b[0;32m/anaconda3/lib/python3.7/site-packages/tensorflow/python/client/session.py\u001b[0m in \u001b[0;36m__call__\u001b[0;34m(self, *args, **kwargs)\u001b[0m\n\u001b[1;32m   1437\u001b[0m           ret = tf_session.TF_SessionRunCallable(\n\u001b[1;32m   1438\u001b[0m               \u001b[0mself\u001b[0m\u001b[0;34m.\u001b[0m\u001b[0m_session\u001b[0m\u001b[0;34m.\u001b[0m\u001b[0m_session\u001b[0m\u001b[0;34m,\u001b[0m \u001b[0mself\u001b[0m\u001b[0;34m.\u001b[0m\u001b[0m_handle\u001b[0m\u001b[0;34m,\u001b[0m \u001b[0margs\u001b[0m\u001b[0;34m,\u001b[0m \u001b[0mstatus\u001b[0m\u001b[0;34m,\u001b[0m\u001b[0;34m\u001b[0m\u001b[0;34m\u001b[0m\u001b[0m\n\u001b[0;32m-> 1439\u001b[0;31m               run_metadata_ptr)\n\u001b[0m\u001b[1;32m   1440\u001b[0m         \u001b[0;32mif\u001b[0m \u001b[0mrun_metadata\u001b[0m\u001b[0;34m:\u001b[0m\u001b[0;34m\u001b[0m\u001b[0;34m\u001b[0m\u001b[0m\n\u001b[1;32m   1441\u001b[0m           \u001b[0mproto_data\u001b[0m \u001b[0;34m=\u001b[0m \u001b[0mtf_session\u001b[0m\u001b[0;34m.\u001b[0m\u001b[0mTF_GetBuffer\u001b[0m\u001b[0;34m(\u001b[0m\u001b[0mrun_metadata_ptr\u001b[0m\u001b[0;34m)\u001b[0m\u001b[0;34m\u001b[0m\u001b[0;34m\u001b[0m\u001b[0m\n",
      "\u001b[0;31mKeyboardInterrupt\u001b[0m: "
     ]
    }
   ],
   "source": [
    "cnn_hist = cnn.fit(X_train,\n",
    "                y_train,\n",
    "                epochs=50,\n",
    "                batch_size=32,\n",
    "                validation_data=(X_val, y_val),\n",
    "                callbacks=[early, checkpoint, tensorboard])\n",
    "# logs below are for the second run after training for ~15 epochs"
   ]
  },
  {
   "cell_type": "markdown",
   "metadata": {},
   "source": [
    "## 2"
   ]
  },
  {
   "cell_type": "code",
   "execution_count": 20,
   "metadata": {},
   "outputs": [],
   "source": [
    "# removing one conv-max block\n",
    "cnn2 = models.Sequential()\n",
    "cnn2.add(layers.Conv2D(28, (3, 3), activation='relu', input_shape=(28,28,1)))\n",
    "cnn2.add(layers.MaxPooling2D((2, 2)))\n",
    "cnn2.add(layers.Conv2D(14, (3, 3), activation='relu'))\n",
    "cnn2.add(layers.MaxPooling2D((2, 2)))\n",
    "cnn2.add(layers.Flatten())\n",
    "cnn2.add(layers.Dense(300, activation='relu'))\n",
    "cnn2.add(layers.Dropout(0.3))\n",
    "cnn2.add(layers.Dense(150, activation='relu'))\n",
    "cnn2.add(layers.Dense(10, activation='softmax'))\n",
    "\n",
    "cnn2.compile(loss='categorical_crossentropy',\n",
    "              optimizer=\"sgd\",\n",
    "              metrics=['acc'])"
   ]
  },
  {
   "cell_type": "code",
   "execution_count": 21,
   "metadata": {},
   "outputs": [],
   "source": [
    "checkpoint = ModelCheckpoint(\"cnn_2.h5\", monitor='val_acc', verbose=1, save_best_only=True, save_weights_only=False, mode='auto', period=1)\n",
    "early = EarlyStopping(monitor='val_acc', min_delta=0, patience=10, verbose=1, mode='auto')\n",
    "tensorboard = TensorBoard()"
   ]
  },
  {
   "cell_type": "code",
   "execution_count": 22,
   "metadata": {
    "scrolled": false
   },
   "outputs": [
    {
     "name": "stdout",
     "output_type": "stream",
     "text": [
      "Train on 48000 samples, validate on 12000 samples\n",
      "Epoch 1/50\n",
      "48000/48000 [==============================] - 20s 412us/step - loss: 0.7122 - acc: 0.7694 - val_loss: 0.2243 - val_acc: 0.9292\n",
      "\n",
      "Epoch 00001: val_acc improved from -inf to 0.92917, saving model to cnn_2.h5\n",
      "Epoch 2/50\n",
      "48000/48000 [==============================] - 19s 405us/step - loss: 0.2304 - acc: 0.9280 - val_loss: 0.1444 - val_acc: 0.9567\n",
      "\n",
      "Epoch 00002: val_acc improved from 0.92917 to 0.95667, saving model to cnn_2.h5\n",
      "Epoch 3/50\n",
      "48000/48000 [==============================] - 19s 400us/step - loss: 0.1664 - acc: 0.9485 - val_loss: 0.1656 - val_acc: 0.9446\n",
      "\n",
      "Epoch 00003: val_acc did not improve from 0.95667\n",
      "Epoch 4/50\n",
      "48000/48000 [==============================] - 19s 403us/step - loss: 0.1345 - acc: 0.9575 - val_loss: 0.1021 - val_acc: 0.9683\n",
      "\n",
      "Epoch 00004: val_acc improved from 0.95667 to 0.96825, saving model to cnn_2.h5\n",
      "Epoch 5/50\n",
      "48000/48000 [==============================] - 19s 405us/step - loss: 0.1153 - acc: 0.9645 - val_loss: 0.0872 - val_acc: 0.9738\n",
      "\n",
      "Epoch 00005: val_acc improved from 0.96825 to 0.97375, saving model to cnn_2.h5\n",
      "Epoch 6/50\n",
      "48000/48000 [==============================] - 19s 404us/step - loss: 0.1037 - acc: 0.9675 - val_loss: 0.0793 - val_acc: 0.9740\n",
      "\n",
      "Epoch 00006: val_acc improved from 0.97375 to 0.97400, saving model to cnn_2.h5\n",
      "Epoch 7/50\n",
      "48000/48000 [==============================] - 20s 407us/step - loss: 0.0930 - acc: 0.9703 - val_loss: 0.0724 - val_acc: 0.9782\n",
      "\n",
      "Epoch 00007: val_acc improved from 0.97400 to 0.97817, saving model to cnn_2.h5\n",
      "Epoch 8/50\n",
      "48000/48000 [==============================] - 19s 403us/step - loss: 0.0850 - acc: 0.9730 - val_loss: 0.0744 - val_acc: 0.9772\n",
      "\n",
      "Epoch 00008: val_acc did not improve from 0.97817\n",
      "Epoch 9/50\n",
      "48000/48000 [==============================] - 19s 402us/step - loss: 0.0770 - acc: 0.9764 - val_loss: 0.0653 - val_acc: 0.9808\n",
      "\n",
      "Epoch 00009: val_acc improved from 0.97817 to 0.98083, saving model to cnn_2.h5\n",
      "Epoch 10/50\n",
      "48000/48000 [==============================] - 19s 402us/step - loss: 0.0723 - acc: 0.9773 - val_loss: 0.0622 - val_acc: 0.9811\n",
      "\n",
      "Epoch 00010: val_acc improved from 0.98083 to 0.98108, saving model to cnn_2.h5\n",
      "Epoch 11/50\n",
      "48000/48000 [==============================] - 20s 408us/step - loss: 0.0674 - acc: 0.9785 - val_loss: 0.0602 - val_acc: 0.9825\n",
      "\n",
      "Epoch 00011: val_acc improved from 0.98108 to 0.98250, saving model to cnn_2.h5\n",
      "Epoch 12/50\n",
      "48000/48000 [==============================] - 20s 417us/step - loss: 0.0618 - acc: 0.9797 - val_loss: 0.0546 - val_acc: 0.9838\n",
      "\n",
      "Epoch 00012: val_acc improved from 0.98250 to 0.98383, saving model to cnn_2.h5\n",
      "Epoch 13/50\n",
      "48000/48000 [==============================] - 20s 412us/step - loss: 0.0596 - acc: 0.9809 - val_loss: 0.0542 - val_acc: 0.9833\n",
      "\n",
      "Epoch 00013: val_acc did not improve from 0.98383\n",
      "Epoch 14/50\n",
      "48000/48000 [==============================] - 20s 410us/step - loss: 0.0542 - acc: 0.9829 - val_loss: 0.0527 - val_acc: 0.9840\n",
      "\n",
      "Epoch 00014: val_acc improved from 0.98383 to 0.98400, saving model to cnn_2.h5\n",
      "Epoch 15/50\n",
      "48000/48000 [==============================] - 20s 409us/step - loss: 0.0541 - acc: 0.9825 - val_loss: 0.0547 - val_acc: 0.9838\n",
      "\n",
      "Epoch 00015: val_acc did not improve from 0.98400\n",
      "Epoch 16/50\n",
      "48000/48000 [==============================] - 20s 407us/step - loss: 0.0512 - acc: 0.9833 - val_loss: 0.0541 - val_acc: 0.9842\n",
      "\n",
      "Epoch 00016: val_acc improved from 0.98400 to 0.98425, saving model to cnn_2.h5\n",
      "Epoch 17/50\n",
      "48000/48000 [==============================] - 19s 404us/step - loss: 0.0474 - acc: 0.9846 - val_loss: 0.0588 - val_acc: 0.9824\n",
      "\n",
      "Epoch 00017: val_acc did not improve from 0.98425\n",
      "Epoch 18/50\n",
      "48000/48000 [==============================] - 20s 412us/step - loss: 0.0454 - acc: 0.9853 - val_loss: 0.0490 - val_acc: 0.9853\n",
      "\n",
      "Epoch 00018: val_acc improved from 0.98425 to 0.98533, saving model to cnn_2.h5\n",
      "Epoch 19/50\n",
      "48000/48000 [==============================] - 19s 406us/step - loss: 0.0430 - acc: 0.9863 - val_loss: 0.0470 - val_acc: 0.9857\n",
      "\n",
      "Epoch 00019: val_acc improved from 0.98533 to 0.98567, saving model to cnn_2.h5\n",
      "Epoch 20/50\n",
      "48000/48000 [==============================] - 20s 410us/step - loss: 0.0405 - acc: 0.9869 - val_loss: 0.0452 - val_acc: 0.9867\n",
      "\n",
      "Epoch 00020: val_acc improved from 0.98567 to 0.98667, saving model to cnn_2.h5\n",
      "Epoch 21/50\n",
      "48000/48000 [==============================] - 19s 404us/step - loss: 0.0399 - acc: 0.9870 - val_loss: 0.0448 - val_acc: 0.9873\n",
      "\n",
      "Epoch 00021: val_acc improved from 0.98667 to 0.98733, saving model to cnn_2.h5\n",
      "Epoch 22/50\n",
      "48000/48000 [==============================] - 19s 395us/step - loss: 0.0388 - acc: 0.9872 - val_loss: 0.0432 - val_acc: 0.9877\n",
      "\n",
      "Epoch 00022: val_acc improved from 0.98733 to 0.98767, saving model to cnn_2.h5\n",
      "Epoch 23/50\n",
      "48000/48000 [==============================] - 20s 409us/step - loss: 0.0367 - acc: 0.9876 - val_loss: 0.0469 - val_acc: 0.9864\n",
      "\n",
      "Epoch 00023: val_acc did not improve from 0.98767\n",
      "Epoch 24/50\n",
      "48000/48000 [==============================] - 19s 403us/step - loss: 0.0343 - acc: 0.9887 - val_loss: 0.0474 - val_acc: 0.9871\n",
      "\n",
      "Epoch 00024: val_acc did not improve from 0.98767\n",
      "Epoch 25/50\n",
      "48000/48000 [==============================] - 20s 411us/step - loss: 0.0346 - acc: 0.9889 - val_loss: 0.0459 - val_acc: 0.9873\n",
      "\n",
      "Epoch 00025: val_acc did not improve from 0.98767\n",
      "Epoch 26/50\n",
      "48000/48000 [==============================] - 20s 409us/step - loss: 0.0325 - acc: 0.9896 - val_loss: 0.0446 - val_acc: 0.9878\n",
      "\n",
      "Epoch 00026: val_acc improved from 0.98767 to 0.98783, saving model to cnn_2.h5\n",
      "Epoch 27/50\n",
      "48000/48000 [==============================] - 20s 409us/step - loss: 0.0311 - acc: 0.9900 - val_loss: 0.0419 - val_acc: 0.9878\n",
      "\n",
      "Epoch 00027: val_acc did not improve from 0.98783\n",
      "Epoch 28/50\n",
      "48000/48000 [==============================] - 20s 409us/step - loss: 0.0286 - acc: 0.9904 - val_loss: 0.0417 - val_acc: 0.9886\n",
      "\n",
      "Epoch 00028: val_acc improved from 0.98783 to 0.98858, saving model to cnn_2.h5\n",
      "Epoch 29/50\n",
      "48000/48000 [==============================] - 20s 410us/step - loss: 0.0280 - acc: 0.9910 - val_loss: 0.0432 - val_acc: 0.9878\n",
      "\n",
      "Epoch 00029: val_acc did not improve from 0.98858\n",
      "Epoch 30/50\n",
      "48000/48000 [==============================] - 20s 409us/step - loss: 0.0279 - acc: 0.9905 - val_loss: 0.0417 - val_acc: 0.9882\n",
      "\n",
      "Epoch 00030: val_acc did not improve from 0.98858\n",
      "Epoch 31/50\n",
      "48000/48000 [==============================] - 20s 411us/step - loss: 0.0270 - acc: 0.9909 - val_loss: 0.0409 - val_acc: 0.9883\n",
      "\n",
      "Epoch 00031: val_acc did not improve from 0.98858\n",
      "Epoch 32/50\n",
      "48000/48000 [==============================] - 19s 405us/step - loss: 0.0263 - acc: 0.9910 - val_loss: 0.0412 - val_acc: 0.9888\n",
      "\n",
      "Epoch 00032: val_acc improved from 0.98858 to 0.98875, saving model to cnn_2.h5\n",
      "Epoch 33/50\n",
      "48000/48000 [==============================] - 19s 406us/step - loss: 0.0244 - acc: 0.9918 - val_loss: 0.0407 - val_acc: 0.9891\n",
      "\n",
      "Epoch 00033: val_acc improved from 0.98875 to 0.98908, saving model to cnn_2.h5\n",
      "Epoch 34/50\n",
      "48000/48000 [==============================] - 19s 406us/step - loss: 0.0240 - acc: 0.9915 - val_loss: 0.0418 - val_acc: 0.9887\n",
      "\n",
      "Epoch 00034: val_acc did not improve from 0.98908\n",
      "Epoch 35/50\n",
      "48000/48000 [==============================] - 20s 421us/step - loss: 0.0222 - acc: 0.9926 - val_loss: 0.0435 - val_acc: 0.9883\n",
      "\n",
      "Epoch 00035: val_acc did not improve from 0.98908\n",
      "Epoch 36/50\n",
      "48000/48000 [==============================] - 20s 407us/step - loss: 0.0220 - acc: 0.9926 - val_loss: 0.0405 - val_acc: 0.9894\n",
      "\n",
      "Epoch 00036: val_acc improved from 0.98908 to 0.98942, saving model to cnn_2.h5\n",
      "Epoch 37/50\n",
      "48000/48000 [==============================] - 20s 407us/step - loss: 0.0225 - acc: 0.9925 - val_loss: 0.0393 - val_acc: 0.9892\n",
      "\n",
      "Epoch 00037: val_acc did not improve from 0.98942\n",
      "Epoch 38/50\n",
      "48000/48000 [==============================] - 20s 417us/step - loss: 0.0208 - acc: 0.9930 - val_loss: 0.0440 - val_acc: 0.9888\n",
      "\n",
      "Epoch 00038: val_acc did not improve from 0.98942\n",
      "Epoch 39/50\n",
      "48000/48000 [==============================] - 20s 407us/step - loss: 0.0205 - acc: 0.9927 - val_loss: 0.0403 - val_acc: 0.9895\n",
      "\n",
      "Epoch 00039: val_acc improved from 0.98942 to 0.98950, saving model to cnn_2.h5\n",
      "Epoch 40/50\n"
     ]
    },
    {
     "name": "stdout",
     "output_type": "stream",
     "text": [
      "48000/48000 [==============================] - 19s 401us/step - loss: 0.0190 - acc: 0.9936 - val_loss: 0.0443 - val_acc: 0.9889\n",
      "\n",
      "Epoch 00040: val_acc did not improve from 0.98950\n",
      "Epoch 41/50\n",
      "48000/48000 [==============================] - 19s 401us/step - loss: 0.0193 - acc: 0.9931 - val_loss: 0.0404 - val_acc: 0.9891\n",
      "\n",
      "Epoch 00041: val_acc did not improve from 0.98950\n",
      "Epoch 42/50\n",
      "48000/48000 [==============================] - 19s 402us/step - loss: 0.0189 - acc: 0.9934 - val_loss: 0.0400 - val_acc: 0.9902\n",
      "\n",
      "Epoch 00042: val_acc improved from 0.98950 to 0.99025, saving model to cnn_2.h5\n",
      "Epoch 43/50\n",
      "48000/48000 [==============================] - 20s 409us/step - loss: 0.0185 - acc: 0.9936 - val_loss: 0.0436 - val_acc: 0.9892\n",
      "\n",
      "Epoch 00043: val_acc did not improve from 0.99025\n",
      "Epoch 44/50\n",
      "48000/48000 [==============================] - 20s 408us/step - loss: 0.0171 - acc: 0.9944 - val_loss: 0.0419 - val_acc: 0.9888\n",
      "\n",
      "Epoch 00044: val_acc did not improve from 0.99025\n",
      "Epoch 45/50\n",
      "48000/48000 [==============================] - 19s 404us/step - loss: 0.0171 - acc: 0.9943 - val_loss: 0.0394 - val_acc: 0.9898\n",
      "\n",
      "Epoch 00045: val_acc did not improve from 0.99025\n",
      "Epoch 46/50\n",
      "48000/48000 [==============================] - 19s 405us/step - loss: 0.0166 - acc: 0.9945 - val_loss: 0.0385 - val_acc: 0.9904\n",
      "\n",
      "Epoch 00046: val_acc improved from 0.99025 to 0.99042, saving model to cnn_2.h5\n",
      "Epoch 47/50\n",
      "48000/48000 [==============================] - 19s 406us/step - loss: 0.0153 - acc: 0.9945 - val_loss: 0.0429 - val_acc: 0.9886\n",
      "\n",
      "Epoch 00047: val_acc did not improve from 0.99042\n",
      "Epoch 48/50\n",
      "48000/48000 [==============================] - 19s 403us/step - loss: 0.0167 - acc: 0.9948 - val_loss: 0.0426 - val_acc: 0.9892\n",
      "\n",
      "Epoch 00048: val_acc did not improve from 0.99042\n",
      "Epoch 49/50\n",
      "48000/48000 [==============================] - 19s 405us/step - loss: 0.0155 - acc: 0.9945 - val_loss: 0.0467 - val_acc: 0.9889\n",
      "\n",
      "Epoch 00049: val_acc did not improve from 0.99042\n",
      "Epoch 50/50\n",
      "48000/48000 [==============================] - 20s 406us/step - loss: 0.0139 - acc: 0.9953 - val_loss: 0.0402 - val_acc: 0.9903\n",
      "\n",
      "Epoch 00050: val_acc did not improve from 0.99042\n"
     ]
    }
   ],
   "source": [
    "cnn_hist = cnn2.fit(X_train,\n",
    "                y_train,\n",
    "                epochs=50,\n",
    "                batch_size=32,\n",
    "                validation_data=(X_val, y_val),\n",
    "                callbacks=[early, checkpoint, tensorboard])"
   ]
  },
  {
   "cell_type": "code",
   "execution_count": 25,
   "metadata": {},
   "outputs": [
    {
     "name": "stdout",
     "output_type": "stream",
     "text": [
      "              precision    recall  f1-score   support\n",
      "\n",
      "           0       0.99      1.00      0.99       980\n",
      "           1       0.99      1.00      0.99      1135\n",
      "           2       0.99      1.00      0.99      1032\n",
      "           3       0.99      0.99      0.99      1010\n",
      "           4       0.99      0.99      0.99       982\n",
      "           5       0.99      0.98      0.99       892\n",
      "           6       0.99      0.99      0.99       958\n",
      "           7       0.99      0.99      0.99      1028\n",
      "           8       0.99      0.98      0.99       974\n",
      "           9       0.98      0.99      0.98      1009\n",
      "\n",
      "   micro avg       0.99      0.99      0.99     10000\n",
      "   macro avg       0.99      0.99      0.99     10000\n",
      "weighted avg       0.99      0.99      0.99     10000\n",
      "\n"
     ]
    }
   ],
   "source": [
    "print(classification_report(y_test.argmax(axis=1),cnn2.predict(x_test).argmax(axis=1)))"
   ]
  },
  {
   "cell_type": "code",
   "execution_count": 28,
   "metadata": {},
   "outputs": [
    {
     "data": {
      "text/plain": [
       "array([7, 2, 1, ..., 4, 5, 6])"
      ]
     },
     "execution_count": 28,
     "metadata": {},
     "output_type": "execute_result"
    }
   ],
   "source": [
    "cnn2.predict(x_test).argmax(axis=1)"
   ]
  },
  {
   "cell_type": "code",
   "execution_count": 30,
   "metadata": {},
   "outputs": [
    {
     "data": {
      "text/plain": [
       "array([7, 2, 1, ..., 4, 5, 6])"
      ]
     },
     "execution_count": 30,
     "metadata": {},
     "output_type": "execute_result"
    }
   ],
   "source": [
    "y_test.argmax(axis=1)"
   ]
  },
  {
   "cell_type": "code",
   "execution_count": 37,
   "metadata": {},
   "outputs": [
    {
     "name": "stdout",
     "output_type": "stream",
     "text": [
      "Confusion matrix, without normalization\n"
     ]
    },
    {
     "data": {
      "image/png": "[encoded data removed]",
      "text/plain": [
       "<Figure size 432x288 with 2 Axes>"
      ]
     },
     "metadata": {
      "needs_background": "light"
     },
     "output_type": "display_data"
    }
   ],
   "source": [
    "cm_ = confusion_matrix(y_test.argmax(axis = 1), cnn2.predict(x_test).argmax(axis=1))\n",
    "classes_ = [str(i) for i in range(10)]\n",
    "plot_confusion_matrix(cm_, classes = classes_, normalize=False,\n",
    "                      title='Non-normalized confusion matrix')"
   ]
  },
  {
   "cell_type": "code",
   "execution_count": null,
   "metadata": {},
   "outputs": [],
   "source": []
  },
  {
   "cell_type": "code",
   "execution_count": null,
   "metadata": {},
   "outputs": [],
   "source": []
  },
  {
   "cell_type": "code",
   "execution_count": null,
   "metadata": {},
   "outputs": [],
   "source": []
  },
  {
   "cell_type": "code",
   "execution_count": null,
   "metadata": {},
   "outputs": [],
   "source": []
  },
  {
   "cell_type": "code",
   "execution_count": null,
   "metadata": {},
   "outputs": [],
   "source": []
  },
  {
   "cell_type": "code",
   "execution_count": null,
   "metadata": {},
   "outputs": [],
   "source": []
  },
  {
   "cell_type": "code",
   "execution_count": null,
   "metadata": {},
   "outputs": [],
   "source": []
  },
  {
   "cell_type": "code",
   "execution_count": null,
   "metadata": {},
   "outputs": [],
   "source": []
  },
  {
   "cell_type": "code",
   "execution_count": null,
   "metadata": {},
   "outputs": [],
   "source": []
  },
  {
   "cell_type": "code",
   "execution_count": null,
   "metadata": {},
   "outputs": [],
   "source": []
  },
  {
   "cell_type": "code",
   "execution_count": null,
   "metadata": {},
   "outputs": [],
   "source": []
  },
  {
   "cell_type": "code",
   "execution_count": null,
   "metadata": {},
   "outputs": [],
   "source": []
  },
  {
   "cell_type": "code",
   "execution_count": null,
   "metadata": {},
   "outputs": [],
   "source": []
  }
 ],
 "metadata": {
  "kernelspec": {
   "display_name": "base",
   "language": "python",
   "name": "base"
  },
  "language_info": {
   "codemirror_mode": {
    "name": "ipython",
    "version": 3
   },
   "file_extension": ".py",
   "mimetype": "text/x-python",
   "name": "python",
   "nbconvert_exporter": "python",
   "pygments_lexer": "ipython3",
   "version": "3.7.1"
  },
  "varInspector": {
   "cols": {
    "lenName": 16,
    "lenType": 16,
    "lenVar": 40
   },
   "kernels_config": {
    "python": {
     "delete_cmd_postfix": "",
     "delete_cmd_prefix": "del ",
     "library": "var_list.py",
     "varRefreshCmd": "print(var_dic_list())"
    },
    "r": {
     "delete_cmd_postfix": ") ",
     "delete_cmd_prefix": "rm(",
     "library": "var_list.r",
     "varRefreshCmd": "cat(var_dic_list()) "
    }
   },
   "types_to_exclude": [
    "module",
    "function",
    "builtin_function_or_method",
    "instance",
    "_Feature"
   ],
   "window_display": false
  }
 },
 "nbformat": 4,
 "nbformat_minor": 2
}
